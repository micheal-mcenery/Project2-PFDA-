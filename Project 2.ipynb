{
 "cells": [
  {
   "cell_type": "markdown",
   "id": "075bbab6",
   "metadata": {},
   "source": [
    "<h1 style=\"font-size:3rem;color:rgb(0, 91, 94);text-align:center;\">Project 2</h1>\n",
    "<hr style=\\\"border-top: 1px solid rgb(0, 91, 94);\\\" />"
   ]
  },
  {
   "cell_type": "markdown",
   "id": "a0db5ab9",
   "metadata": {},
   "source": [
    "<h2 style=\"color:rgb(0, 91, 94)\">Background</h2>\n",
    "<hr style=\\\"border-top: 1px solid rgb(0, 91, 94);\\\" />"
   ]
  },
  {
   "cell_type": "markdown",
   "id": "dfd21290",
   "metadata": {},
   "source": [
    "The purpose of this project is to investigate the Wisconsin Breast Cancer (Diagnostic) dataset. This dataset is comprised of 569 instances of features computed from digitized images of a fine needle aspirate (FNA) of a breast mass. Each instance describes characteristics of the cell nuclei present in the image. More information can be found at https://archive.ics.uci.edu/ml/datasets/breast+cancer+wisconsin+(diagnostic).\n",
    "\n",
    "Features include:\n",
    "- radius (mean of distances from center to points on the perimeter)\n",
    "- texture (standard deviation of gray-scale values)\n",
    "- perimeter\n",
    "- area\n",
    "- smoothness (local variation in radius lengths)\n",
    "- compactness (perimeter^2 / area - 1.0)\n",
    "- concavity (severity of concave portions of the contour)\n",
    "- concave points (number of concave portions of the contour)\n",
    "- symmetry\n",
    "- fractal dimension (\"coastline approximation\" - 1)"
   ]
  },
  {
   "cell_type": "markdown",
   "id": "f21a9e6f",
   "metadata": {},
   "source": [
    "<h2 style=\"color:rgb(0, 91, 94)\">Literature Review on Classifiers</h2>\n",
    "<hr style=\\\"border-top: 1px solid rgb(0, 91, 94);\\\" />"
   ]
  },
  {
   "cell_type": "markdown",
   "id": "50c5ee84",
   "metadata": {},
   "source": [
    "Research by Salama, Abdelhalim, and Zeid (2012) assessed the performance of five machine learning algorithms (decision tree (J48), Multi-Layer Perception (MLP), Naive Bayes (NB), Sequential Minimal Optimization (SMO), and Instance Based for K-Nearest neighbor (IBK) in providing the best accuracy in the classification of breast cancer, when applied to the Wisconsin Breast Cancer (Diagnostic) dataset. Their findings indicate that, when applied to the Wisconsin Breast Cancer (Diagnostic) dataset, the Sequential Minimal Optimization algorithim was the most accurate in the classification of breast cancer, with 97.72% accuracy (Salama, Abdelhalim, and Zeid, 2012).\n",
    "\n",
    "Research by Obaid et al. (2018) assessed the performance of three machine learning algorithms (Support Vector Machine, K-nearest neighbors, and Decision tree) in providing the best accuracy in the classification of breast cancer, when applied to the Wisconsin Breast Cancer (Diagnostic) dataset. Their findings indicated that the support vector machine algorithm grants the largest accuracy of (98.1%) with lowest false discovery rates (Obaid et al, 2018).\n",
    "\n",
    "Research by Saygili (2018) assessed the performance of six machine learning algorithms (Support Vector Machine, K-nearest neighbors, Naive Bayes, J48, random forest and multilayer perceptron methods) in providing the best accuracy in the classification of breast cancer, when applied to the Wisconsin Breast Cancer (Diagnostic) dataset. They found that random forest was the most successful method with 98.77 % accuracy value, while the next most successful was multilayer perceptron (98.41%) (Saygili, 2018).\n",
    "\n"
   ]
  },
  {
   "cell_type": "markdown",
   "id": "59059358",
   "metadata": {},
   "source": [
    "<h2 style=\"color:rgb(0, 91, 94)\">References</h2>\n",
    "<hr style=\\\"border-top: 1px solid rgb(0, 91, 94);\\\" />"
   ]
  },
  {
   "cell_type": "markdown",
   "id": "b68cb6ba",
   "metadata": {},
   "source": [
    "Obaid, O. I., Mohammed, M. A., Ghani, M. K. A., Mostafa, A., & Taha, F. (2018). Evaluating the performance of machine learning techniques in the classification of Wisconsin Breast Cancer. International Journal of Engineering & Technology, 7(4.36), 160-166.\n",
    "\n",
    "SAYGILI, A. (2018). Classification and diagnostic prediction of breast cancers via different classifiers. International Scientific and Vocational Studies Journal, 2(2), 48-56.\n",
    "\n",
    "Salama, G. I., Abdelhalim, M., & Zeid, M. A. E. (2012). Breast cancer diagnosis on three different datasets using multi-classifiers. Breast Cancer (WDBC), 32(569), 2."
   ]
  }
 ],
 "metadata": {
  "kernelspec": {
   "display_name": "Python 3 (ipykernel)",
   "language": "python",
   "name": "python3"
  },
  "language_info": {
   "codemirror_mode": {
    "name": "ipython",
    "version": 3
   },
   "file_extension": ".py",
   "mimetype": "text/x-python",
   "name": "python",
   "nbconvert_exporter": "python",
   "pygments_lexer": "ipython3",
   "version": "3.9.7"
  }
 },
 "nbformat": 4,
 "nbformat_minor": 5
}
